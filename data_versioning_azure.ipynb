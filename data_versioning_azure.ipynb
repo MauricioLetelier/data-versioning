{
 "cells": [
  {
   "cell_type": "code",
   "execution_count": null,
   "metadata": {},
   "outputs": [],
   "source": [
    "import azureml.core\n",
    "print(\"Ready to get your hands dirty with the:\", azureml.core.VERSION, \"version of Azureml?\")"
   ]
  },
  {
   "cell_type": "code",
   "execution_count": null,
   "metadata": {},
   "outputs": [],
   "source": [
    "from azureml.core import Workspace\n",
    "\n",
    "ws = Workspace.from_config()\n",
    "print(\"Your workspace\",ws.name, \"is loaded\")"
   ]
  },
  {
   "cell_type": "code",
   "execution_count": null,
   "metadata": {},
   "outputs": [],
   "source": [
    "datastore = ws.get_default_datastore()\n",
    "\n",
    "for datastores in ws.datastores:\n",
    "    print(datastores+',', \"Default? =>\", datastores == datastore.name)"
   ]
  },
  {
   "cell_type": "code",
   "execution_count": null,
   "metadata": {},
   "outputs": [],
   "source": [
    "from azureml.opendatasets import Diabetes\n",
    "import pandas as pd\n",
    "\n",
    "diabetes = Diabetes.get_tabular_dataset().to_pandas_dataframe()\n",
    "diabetes.to_csv('diabetes.csv',index=False)\n",
    "\n",
    "datastore.upload_files(files=['diabetes.csv'],\n",
    "                      target_path='diabetes-data/',\n",
    "                      overwrite=True,\n",
    "                      show_progress=True)"
   ]
  },
  {
   "cell_type": "code",
   "execution_count": null,
   "metadata": {},
   "outputs": [],
   "source": [
    "from azureml.core import Dataset\n",
    "tabular_diabetes = Dataset.Tabular.from_delimited_files(path=(datastore, 'diabetes-data/diabetes.csv'))\n",
    "\n",
    "tabular_diabetes = tabular_diabetes.register(workspace = ws,\n",
    "                                  name='diabetes-exp',\n",
    "                                  description='diabetes tabular dataset',\n",
    "                                  create_new_version=True)"
   ]
  },
  {
   "cell_type": "code",
   "execution_count": null,
   "metadata": {},
   "outputs": [],
   "source": [
    "diabetes = Dataset.get_by_name(workspace = ws, name='diabetes-exp').to_pandas_dataframe()"
   ]
  },
  {
   "cell_type": "code",
   "execution_count": null,
   "metadata": {},
   "outputs": [],
   "source": [
    "diabetes['AGE']=diabetes['AGE']+5\n",
    "\n",
    "diabetes.to_csv('diabetes2.csv',index=False)\n",
    "\n",
    "datastore.upload_files(files=['diabetes2.csv'],\n",
    "                      target_path='diabetes-data/',\n",
    "                      overwrite=True,\n",
    "                      show_progress=True)"
   ]
  },
  {
   "cell_type": "code",
   "execution_count": null,
   "metadata": {},
   "outputs": [],
   "source": [
    "tabular_diabetes = Dataset.Tabular.from_delimited_files(path=(datastore, 'diabetes-data/diabetes2.csv'))\n",
    "\n",
    "tabular_diabetes = tabular_diabetes.register(workspace = ws,\n",
    "                                  name='diabetes-exp',\n",
    "                                  description='diabetes tabular dataset',\n",
    "                                  create_new_version=True)"
   ]
  },
  {
   "cell_type": "code",
   "execution_count": null,
   "metadata": {},
   "outputs": [],
   "source": [
    "Dataset.get_by_name(workspace = ws, name='diabetes-exp').to_pandas_dataframe().head(5)"
   ]
  },
  {
   "cell_type": "code",
   "execution_count": null,
   "metadata": {},
   "outputs": [],
   "source": [
    "Dataset.get_by_name(workspace = ws, name='diabetes-exp',version=1).to_pandas_dataframe().head(5)"
   ]
  },
  {
   "cell_type": "code",
   "execution_count": null,
   "metadata": {},
   "outputs": [],
   "source": []
  }
 ],
 "metadata": {
  "kernelspec": {
   "display_name": "Python 3.6 - AzureML",
   "language": "python",
   "name": "python3-azureml"
  },
  "language_info": {
   "codemirror_mode": {
    "name": "ipython",
    "version": 3
   },
   "file_extension": ".py",
   "mimetype": "text/x-python",
   "name": "python",
   "nbconvert_exporter": "python",
   "pygments_lexer": "ipython3",
   "version": "3.6.9"
  }
 },
 "nbformat": 4,
 "nbformat_minor": 4
}
